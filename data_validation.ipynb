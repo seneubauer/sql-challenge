{
 "cells": [
  {
   "cell_type": "code",
   "execution_count": 1,
   "id": "194b8c56",
   "metadata": {},
   "outputs": [],
   "source": [
    "# import sqlAlchemy dependencies\n",
    "import sqlalchemy\n",
    "from sqlalchemy.ext.automap import automap_base\n",
    "from sqlalchemy.orm import Session\n",
    "from sqlalchemy import create_engine\n",
    "from sqlalchemy.dialects import postgresql"
   ]
  },
  {
   "cell_type": "code",
   "execution_count": 2,
   "id": "2edbbb9b",
   "metadata": {},
   "outputs": [],
   "source": [
    "# import the PostgreSQL confidential values\n",
    "from config import postgresql_key, postgresql_port, postgresql_host, postgresql_db, postgresql_user"
   ]
  },
  {
   "cell_type": "code",
   "execution_count": 3,
   "id": "e8e47dee",
   "metadata": {},
   "outputs": [],
   "source": [
    "# create the engine\n",
    "engine = create_engine(f\"postgresql+psycopg2://{postgresql_user}:{postgresql_key}@{postgresql_host}/{postgresql_db}\")"
   ]
  },
  {
   "cell_type": "code",
   "execution_count": 4,
   "id": "56b39e91",
   "metadata": {},
   "outputs": [
    {
     "data": {
      "text/plain": [
       "['employees', 'titles', 'dept_emp', 'departments', 'dept_manager', 'salaries']"
      ]
     },
     "execution_count": 4,
     "metadata": {},
     "output_type": "execute_result"
    }
   ],
   "source": [
    "# create the base reflector and print tables\n",
    "Base = automap_base()\n",
    "Base.prepare(engine, reflect = True)\n",
    "Base.classes.keys()"
   ]
  },
  {
   "cell_type": "code",
   "execution_count": 5,
   "id": "123b401f",
   "metadata": {},
   "outputs": [],
   "source": [
    "# create the mapped objects\n",
    "Employees = Base.classes.employees\n",
    "Salaries = Base.classes.salaries\n",
    "Titles = Base.classes.titles"
   ]
  },
  {
   "cell_type": "code",
   "execution_count": 6,
   "id": "06720d03",
   "metadata": {},
   "outputs": [],
   "source": [
    "# create the constructor session\n",
    "session = Session(engine)"
   ]
  },
  {
   "cell_type": "code",
   "execution_count": 7,
   "id": "61163d6b",
   "metadata": {},
   "outputs": [],
   "source": [
    "# construct the SQL statement\n",
    "sqlQuery = session.query(Employees.emp_no, Salaries.salary, Titles.title)\\\n",
    "                        .join(Salaries, Employees.emp_no == Salaries.emp_no)\\\n",
    "                        .join(Titles, Employees.emp_title_id == Titles.title_id)\n",
    "\n",
    "# define the statement in a string\n",
    "sqlStatement = str(sqlQuery.statement.compile(dialect = postgresql.dialect()))\n",
    "\n",
    "# close the session\n",
    "session.close()"
   ]
  },
  {
   "cell_type": "code",
   "execution_count": 26,
   "id": "d2854469",
   "metadata": {},
   "outputs": [],
   "source": [
    "# import pandas, scipy, and matplotlib dependencies\n",
    "import pandas as pd\n",
    "import matplotlib.pyplot as plt\n",
    "import scipy.stats as st"
   ]
  },
  {
   "cell_type": "code",
   "execution_count": 9,
   "id": "afebe151",
   "metadata": {},
   "outputs": [],
   "source": [
    "# connect the engine\n",
    "conn = engine.connect()"
   ]
  },
  {
   "cell_type": "code",
   "execution_count": 11,
   "id": "429a89d0",
   "metadata": {},
   "outputs": [
    {
     "data": {
      "text/html": [
       "<div>\n",
       "<style scoped>\n",
       "    .dataframe tbody tr th:only-of-type {\n",
       "        vertical-align: middle;\n",
       "    }\n",
       "\n",
       "    .dataframe tbody tr th {\n",
       "        vertical-align: top;\n",
       "    }\n",
       "\n",
       "    .dataframe thead th {\n",
       "        text-align: right;\n",
       "    }\n",
       "</style>\n",
       "<table border=\"1\" class=\"dataframe\">\n",
       "  <thead>\n",
       "    <tr style=\"text-align: right;\">\n",
       "      <th></th>\n",
       "      <th>emp_no</th>\n",
       "      <th>salary</th>\n",
       "      <th>title</th>\n",
       "    </tr>\n",
       "  </thead>\n",
       "  <tbody>\n",
       "    <tr>\n",
       "      <th>0</th>\n",
       "      <td>10005</td>\n",
       "      <td>78228</td>\n",
       "      <td>Staff</td>\n",
       "    </tr>\n",
       "    <tr>\n",
       "      <th>1</th>\n",
       "      <td>10010</td>\n",
       "      <td>72488</td>\n",
       "      <td>Engineer</td>\n",
       "    </tr>\n",
       "    <tr>\n",
       "      <th>2</th>\n",
       "      <td>10011</td>\n",
       "      <td>42365</td>\n",
       "      <td>Staff</td>\n",
       "    </tr>\n",
       "    <tr>\n",
       "      <th>3</th>\n",
       "      <td>10018</td>\n",
       "      <td>55881</td>\n",
       "      <td>Senior Engineer</td>\n",
       "    </tr>\n",
       "    <tr>\n",
       "      <th>4</th>\n",
       "      <td>10035</td>\n",
       "      <td>41538</td>\n",
       "      <td>Senior Engineer</td>\n",
       "    </tr>\n",
       "  </tbody>\n",
       "</table>\n",
       "</div>"
      ],
      "text/plain": [
       "   emp_no  salary            title\n",
       "0   10005   78228            Staff\n",
       "1   10010   72488         Engineer\n",
       "2   10011   42365            Staff\n",
       "3   10018   55881  Senior Engineer\n",
       "4   10035   41538  Senior Engineer"
      ]
     },
     "execution_count": 11,
     "metadata": {},
     "output_type": "execute_result"
    }
   ],
   "source": [
    "# read the data into Pandas\n",
    "data = pd.read_sql(sqlStatement, conn)\n",
    "data.head()"
   ]
  },
  {
   "cell_type": "code",
   "execution_count": 30,
   "id": "d74781af",
   "metadata": {},
   "outputs": [
    {
     "data": {
      "image/png": "[encoded data removed]",
      "text/plain": [
       "<Figure size 1080x432 with 1 Axes>"
      ]
     },
     "metadata": {
      "needs_background": "light"
     },
     "output_type": "display_data"
    },
    {
     "name": "stdout",
     "output_type": "stream",
     "text": [
      "NormaltestResult(statistic=20.226152908533024, pvalue=4.054587721277819e-05)\n"
     ]
    }
   ],
   "source": [
    "# show the distribution of salaries and their frequencies\n",
    "plt.figure(figsize = (15, 6))\n",
    "plt.hist(data[\"salary\"])\n",
    "plt.xlabel(\"Salary ($)\")\n",
    "plt.ylabel(\"Counts\")\n",
    "plt.show()"
   ]
  },
  {
   "cell_type": "code",
   "execution_count": 18,
   "id": "c71038a8",
   "metadata": {},
   "outputs": [
    {
     "data": {
      "text/html": [
       "<div>\n",
       "<style scoped>\n",
       "    .dataframe tbody tr th:only-of-type {\n",
       "        vertical-align: middle;\n",
       "    }\n",
       "\n",
       "    .dataframe tbody tr th {\n",
       "        vertical-align: top;\n",
       "    }\n",
       "\n",
       "    .dataframe thead th {\n",
       "        text-align: right;\n",
       "    }\n",
       "</style>\n",
       "<table border=\"1\" class=\"dataframe\">\n",
       "  <thead>\n",
       "    <tr style=\"text-align: right;\">\n",
       "      <th></th>\n",
       "      <th>emp_no</th>\n",
       "      <th>salary</th>\n",
       "    </tr>\n",
       "    <tr>\n",
       "      <th>title</th>\n",
       "      <th></th>\n",
       "      <th></th>\n",
       "    </tr>\n",
       "  </thead>\n",
       "  <tbody>\n",
       "    <tr>\n",
       "      <th>Assistant Engineer</th>\n",
       "      <td>252992.595373</td>\n",
       "      <td>48564.434447</td>\n",
       "    </tr>\n",
       "    <tr>\n",
       "      <th>Engineer</th>\n",
       "      <td>253654.345919</td>\n",
       "      <td>48535.336511</td>\n",
       "    </tr>\n",
       "    <tr>\n",
       "      <th>Manager</th>\n",
       "      <td>110780.833333</td>\n",
       "      <td>51531.041667</td>\n",
       "    </tr>\n",
       "    <tr>\n",
       "      <th>Senior Engineer</th>\n",
       "      <td>253038.749885</td>\n",
       "      <td>48506.799871</td>\n",
       "    </tr>\n",
       "    <tr>\n",
       "      <th>Senior Staff</th>\n",
       "      <td>254481.798969</td>\n",
       "      <td>58550.172704</td>\n",
       "    </tr>\n",
       "  </tbody>\n",
       "</table>\n",
       "</div>"
      ],
      "text/plain": [
       "                           emp_no        salary\n",
       "title                                          \n",
       "Assistant Engineer  252992.595373  48564.434447\n",
       "Engineer            253654.345919  48535.336511\n",
       "Manager             110780.833333  51531.041667\n",
       "Senior Engineer     253038.749885  48506.799871\n",
       "Senior Staff        254481.798969  58550.172704"
      ]
     },
     "execution_count": 18,
     "metadata": {},
     "output_type": "execute_result"
    }
   ],
   "source": [
    "# create the grouped DataFrame\n",
    "grouped_df = data.groupby([\"title\"]).mean()\n",
    "grouped_df.head()"
   ]
  },
  {
   "cell_type": "code",
   "execution_count": 33,
   "id": "d730e3b1",
   "metadata": {},
   "outputs": [
    {
     "data": {
      "image/png": "[encoded data removed]",
      "text/plain": [
       "<Figure size 1080x432 with 1 Axes>"
      ]
     },
     "metadata": {
      "needs_background": "light"
     },
     "output_type": "display_data"
    }
   ],
   "source": [
    "# show the distribution of salaries by title\n",
    "plt.figure(figsize = (15, 6))\n",
    "plt.bar([i for i in range(len(grouped_df.index))], grouped_df[\"salary\"], width = 0.5, bottom = 0, align = \"center\")\n",
    "plt.xticks([i for i in range(len(grouped_df.index))], grouped_df.index)\n",
    "plt.xlabel(\"Titles\")\n",
    "plt.ylabel(\"Salaries ($)\")\n",
    "plt.show()"
   ]
  },
  {
   "cell_type": "code",
   "execution_count": null,
   "id": "2d3013e2",
   "metadata": {},
   "outputs": [],
   "source": [
    "# release the resources\n",
    "conn.close()\n",
    "engine.dispose()"
   ]
  }
 ],
 "metadata": {
  "kernelspec": {
   "display_name": "Python 3 (ipykernel)",
   "language": "python",
   "name": "python3"
  },
  "language_info": {
   "codemirror_mode": {
    "name": "ipython",
    "version": 3
   },
   "file_extension": ".py",
   "mimetype": "text/x-python",
   "name": "python",
   "nbconvert_exporter": "python",
   "pygments_lexer": "ipython3",
   "version": "3.8.13"
  }
 },
 "nbformat": 4,
 "nbformat_minor": 5
}
